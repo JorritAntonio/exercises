{
 "cells": [
  {
   "attachments": {},
   "cell_type": "markdown",
   "metadata": {},
   "source": [
    "Je krijgt van ons een csv bestand met de naam “persoonsgegevens.csv”. \n",
    "Het bestand bevat informatie van personen:\n",
    "-\tKolom 1: het rijksregisternummer van de persoon\n",
    "-\tKolom 2: de familienaam van de persoon\n",
    "-\tKolom 3: de voornaam van de persoon\n",
    "\n",
    "Een rijksregisternummer heeft volgend formaat: \n",
    "-\t3 keer 2 cijfers onderling gescheiden door een punt; dit is de geboortedatum van de persoon in de vorm jj.mm.dd (eerste twee cijfers zijn de 2 laatste cijfers van het geboortejaar, dan een punt, dan twee cijfers overeenkomstig de geboortemaand, dan een punt en dan nog eens twee cijfers overeenkomstig de geboortedag)\n",
    "-\tEen streepje “-“\n",
    "-\tDrie cijfers: dit is volgnummer om personen die op dezelfde dag geboren zijn van elkaar te onderscheiden; vrouwen krijgen een even volgnummer, mannen een oneven volgnummer\n",
    "-\tEen punt\n",
    "-\tTwee cijfers die als controlegetal werken; hoe deze controle gebeurd is voor deze opgave niet van belang\n",
    "Een vrouw geboren op 28 juli 1994 zou volgend rijksregisternummer kunnen hebben: \n",
    "94.07.28-124.89.\n",
    "We wensen een applicatie te maken om een overzicht te creëren van het aantal geboortes per dag van de week. In dit overzicht worden de dagen van de week voorgesteld met de Engelstalige benamingen, dus van \"Monday\" tot \"Sunday\".\n",
    "Vul in volgende de nodige stukjes code toe."
   ]
  },
  {
   "attachments": {},
   "cell_type": "markdown",
   "metadata": {},
   "source": [
    "Lees het bestand \"personal_data.csv\" in een panda Dataframe met de naam \"data\""
   ]
  },
  {
   "cell_type": "code",
   "execution_count": 82,
   "metadata": {},
   "outputs": [],
   "source": [
    "## first import them at the beginning just in case\n",
    "import pandas as pd\n",
    "import numpy as np\n",
    "import matplotlib.pyplot as plt\n",
    "import seaborn as sns\n",
    "\n",
    "import re \n",
    "from datetime import datetime\n",
    "\n",
    "data = pd.read_csv('personal_data.csv',delimiter=';')\n"
   ]
  },
  {
   "attachments": {},
   "cell_type": "markdown",
   "metadata": {},
   "source": [
    "Controleer of dit goed gedaan is door een aantal van de eerste rijen te tonen."
   ]
  },
  {
   "cell_type": "code",
   "execution_count": 83,
   "metadata": {},
   "outputs": [
    {
     "data": {
      "text/html": [
       "<div>\n",
       "<style scoped>\n",
       "    .dataframe tbody tr th:only-of-type {\n",
       "        vertical-align: middle;\n",
       "    }\n",
       "\n",
       "    .dataframe tbody tr th {\n",
       "        vertical-align: top;\n",
       "    }\n",
       "\n",
       "    .dataframe thead th {\n",
       "        text-align: right;\n",
       "    }\n",
       "</style>\n",
       "<table border=\"1\" class=\"dataframe\">\n",
       "  <thead>\n",
       "    <tr style=\"text-align: right;\">\n",
       "      <th></th>\n",
       "      <th>rijksregisternummer</th>\n",
       "      <th>naam</th>\n",
       "      <th>voornaam</th>\n",
       "    </tr>\n",
       "  </thead>\n",
       "  <tbody>\n",
       "    <tr>\n",
       "      <th>0</th>\n",
       "      <td>94.07.25-124.89</td>\n",
       "      <td>Lemmens</td>\n",
       "      <td>Elke</td>\n",
       "    </tr>\n",
       "    <tr>\n",
       "      <th>1</th>\n",
       "      <td>96.99.11-133.71</td>\n",
       "      <td>Janssens</td>\n",
       "      <td>Jef</td>\n",
       "    </tr>\n",
       "    <tr>\n",
       "      <th>2</th>\n",
       "      <td>02.122.12-122.32</td>\n",
       "      <td>Elen</td>\n",
       "      <td>Marieke</td>\n",
       "    </tr>\n",
       "    <tr>\n",
       "      <th>3</th>\n",
       "      <td>99.07.01-005.56</td>\n",
       "      <td>Hendriks</td>\n",
       "      <td>Hendrik</td>\n",
       "    </tr>\n",
       "    <tr>\n",
       "      <th>4</th>\n",
       "      <td>93.07.25-1248.89</td>\n",
       "      <td>Lemmens</td>\n",
       "      <td>Elke</td>\n",
       "    </tr>\n",
       "  </tbody>\n",
       "</table>\n",
       "</div>"
      ],
      "text/plain": [
       "  rijksregisternummer      naam voornaam\n",
       "0     94.07.25-124.89   Lemmens     Elke\n",
       "1     96.99.11-133.71  Janssens      Jef\n",
       "2    02.122.12-122.32      Elen  Marieke\n",
       "3     99.07.01-005.56  Hendriks  Hendrik\n",
       "4    93.07.25-1248.89   Lemmens     Elke"
      ]
     },
     "execution_count": 83,
     "metadata": {},
     "output_type": "execute_result"
    }
   ],
   "source": [
    "data.head()"
   ]
  },
  {
   "attachments": {},
   "cell_type": "markdown",
   "metadata": {},
   "source": [
    "Wijzig de rijksregisternummers die niet aan het juiste formaat voldoen (beschouw voorlopig enkel als goed formaat : 2cijfers.2cijfers.2cijfers-3cijfers.2cijfers) door None.\n",
    "Toon opnieuw de eerste rijen om na te gaan of dit gelukt is."
   ]
  },
  {
   "cell_type": "code",
   "execution_count": 84,
   "metadata": {},
   "outputs": [
    {
     "data": {
      "text/html": [
       "<div>\n",
       "<style scoped>\n",
       "    .dataframe tbody tr th:only-of-type {\n",
       "        vertical-align: middle;\n",
       "    }\n",
       "\n",
       "    .dataframe tbody tr th {\n",
       "        vertical-align: top;\n",
       "    }\n",
       "\n",
       "    .dataframe thead th {\n",
       "        text-align: right;\n",
       "    }\n",
       "</style>\n",
       "<table border=\"1\" class=\"dataframe\">\n",
       "  <thead>\n",
       "    <tr style=\"text-align: right;\">\n",
       "      <th></th>\n",
       "      <th>rijksregisternummer</th>\n",
       "      <th>naam</th>\n",
       "      <th>voornaam</th>\n",
       "    </tr>\n",
       "  </thead>\n",
       "  <tbody>\n",
       "    <tr>\n",
       "      <th>0</th>\n",
       "      <td>94.07.25-124.89</td>\n",
       "      <td>Lemmens</td>\n",
       "      <td>Elke</td>\n",
       "    </tr>\n",
       "    <tr>\n",
       "      <th>1</th>\n",
       "      <td>96.99.11-133.71</td>\n",
       "      <td>Janssens</td>\n",
       "      <td>Jef</td>\n",
       "    </tr>\n",
       "    <tr>\n",
       "      <th>2</th>\n",
       "      <td>None</td>\n",
       "      <td>Elen</td>\n",
       "      <td>Marieke</td>\n",
       "    </tr>\n",
       "    <tr>\n",
       "      <th>3</th>\n",
       "      <td>99.07.01-005.56</td>\n",
       "      <td>Hendriks</td>\n",
       "      <td>Hendrik</td>\n",
       "    </tr>\n",
       "    <tr>\n",
       "      <th>4</th>\n",
       "      <td>None</td>\n",
       "      <td>Lemmens</td>\n",
       "      <td>Elke</td>\n",
       "    </tr>\n",
       "  </tbody>\n",
       "</table>\n",
       "</div>"
      ],
      "text/plain": [
       "  rijksregisternummer      naam voornaam\n",
       "0     94.07.25-124.89   Lemmens     Elke\n",
       "1     96.99.11-133.71  Janssens      Jef\n",
       "2                None      Elen  Marieke\n",
       "3     99.07.01-005.56  Hendriks  Hendrik\n",
       "4                None   Lemmens     Elke"
      ]
     },
     "execution_count": 84,
     "metadata": {},
     "output_type": "execute_result"
    }
   ],
   "source": [
    "def controleer_rijksregisternummer(rrn):\n",
    "    pattern = r\"^\\d{2}\\.\\d{2}\\.\\d{2}\\-\\d{3}\\.\\d{2}$\"\n",
    "    if not pd.isna(rrn) and not bool(re.match(pattern, rrn)):\n",
    "        return None\n",
    "    return rrn\n",
    "\n",
    "data[\"rijksregisternummer\"] = data[\"rijksregisternummer\"].apply(controleer_rijksregisternummer)\n",
    "data.head()"
   ]
  },
  {
   "attachments": {},
   "cell_type": "markdown",
   "metadata": {},
   "source": [
    "Wijzig de rijksregisternummers waarvan de eerste 8 tekens niet overeenkomen met een datum door None.\n",
    "Toon opnieuw de eerste rijen om na te gaan of dit gelukt is."
   ]
  },
  {
   "cell_type": "code",
   "execution_count": 85,
   "metadata": {},
   "outputs": [
    {
     "data": {
      "text/html": [
       "<div>\n",
       "<style scoped>\n",
       "    .dataframe tbody tr th:only-of-type {\n",
       "        vertical-align: middle;\n",
       "    }\n",
       "\n",
       "    .dataframe tbody tr th {\n",
       "        vertical-align: top;\n",
       "    }\n",
       "\n",
       "    .dataframe thead th {\n",
       "        text-align: right;\n",
       "    }\n",
       "</style>\n",
       "<table border=\"1\" class=\"dataframe\">\n",
       "  <thead>\n",
       "    <tr style=\"text-align: right;\">\n",
       "      <th></th>\n",
       "      <th>rijksregisternummer</th>\n",
       "      <th>naam</th>\n",
       "      <th>voornaam</th>\n",
       "    </tr>\n",
       "  </thead>\n",
       "  <tbody>\n",
       "    <tr>\n",
       "      <th>0</th>\n",
       "      <td>94.07.25-124.89</td>\n",
       "      <td>Lemmens</td>\n",
       "      <td>Elke</td>\n",
       "    </tr>\n",
       "    <tr>\n",
       "      <th>1</th>\n",
       "      <td>None</td>\n",
       "      <td>Janssens</td>\n",
       "      <td>Jef</td>\n",
       "    </tr>\n",
       "    <tr>\n",
       "      <th>2</th>\n",
       "      <td>None</td>\n",
       "      <td>Elen</td>\n",
       "      <td>Marieke</td>\n",
       "    </tr>\n",
       "    <tr>\n",
       "      <th>3</th>\n",
       "      <td>99.07.01-005.56</td>\n",
       "      <td>Hendriks</td>\n",
       "      <td>Hendrik</td>\n",
       "    </tr>\n",
       "    <tr>\n",
       "      <th>4</th>\n",
       "      <td>None</td>\n",
       "      <td>Lemmens</td>\n",
       "      <td>Elke</td>\n",
       "    </tr>\n",
       "  </tbody>\n",
       "</table>\n",
       "</div>"
      ],
      "text/plain": [
       "  rijksregisternummer      naam voornaam\n",
       "0     94.07.25-124.89   Lemmens     Elke\n",
       "1                None  Janssens      Jef\n",
       "2                None      Elen  Marieke\n",
       "3     99.07.01-005.56  Hendriks  Hendrik\n",
       "4                None   Lemmens     Elke"
      ]
     },
     "execution_count": 85,
     "metadata": {},
     "output_type": "execute_result"
    }
   ],
   "source": [
    "def controleer_en_wijzig_rrn(rrn):\n",
    "    if not pd.isna(rrn):\n",
    "        try:\n",
    "            datum = datetime.strptime(rrn[:8], \"%y.%m.%d\")\n",
    "            return rrn\n",
    "        except ValueError:\n",
    "            return None\n",
    "        \n",
    "\n",
    "\n",
    "data[\"rijksregisternummer\"] = data[\"rijksregisternummer\"].apply(controleer_en_wijzig_rrn)\n",
    "data.head()\n"
   ]
  },
  {
   "attachments": {},
   "cell_type": "markdown",
   "metadata": {},
   "source": [
    "Schrap de rijen in het dataframe waarin de waarde None in één van de kolommen voorkomt.\n",
    "Toon opnieuw de eerste rijen om na te gaan of dit gelukt is."
   ]
  },
  {
   "cell_type": "code",
   "execution_count": 86,
   "metadata": {},
   "outputs": [
    {
     "data": {
      "text/html": [
       "<div>\n",
       "<style scoped>\n",
       "    .dataframe tbody tr th:only-of-type {\n",
       "        vertical-align: middle;\n",
       "    }\n",
       "\n",
       "    .dataframe tbody tr th {\n",
       "        vertical-align: top;\n",
       "    }\n",
       "\n",
       "    .dataframe thead th {\n",
       "        text-align: right;\n",
       "    }\n",
       "</style>\n",
       "<table border=\"1\" class=\"dataframe\">\n",
       "  <thead>\n",
       "    <tr style=\"text-align: right;\">\n",
       "      <th></th>\n",
       "      <th>rijksregisternummer</th>\n",
       "      <th>naam</th>\n",
       "      <th>voornaam</th>\n",
       "    </tr>\n",
       "  </thead>\n",
       "  <tbody>\n",
       "    <tr>\n",
       "      <th>0</th>\n",
       "      <td>94.07.25-124.89</td>\n",
       "      <td>Lemmens</td>\n",
       "      <td>Elke</td>\n",
       "    </tr>\n",
       "    <tr>\n",
       "      <th>3</th>\n",
       "      <td>99.07.01-005.56</td>\n",
       "      <td>Hendriks</td>\n",
       "      <td>Hendrik</td>\n",
       "    </tr>\n",
       "    <tr>\n",
       "      <th>5</th>\n",
       "      <td>00.10.11-133.71</td>\n",
       "      <td>Janssens</td>\n",
       "      <td>Jef</td>\n",
       "    </tr>\n",
       "    <tr>\n",
       "      <th>7</th>\n",
       "      <td>89.07.01-005.56</td>\n",
       "      <td>Hendriks</td>\n",
       "      <td>Hendrik</td>\n",
       "    </tr>\n",
       "    <tr>\n",
       "      <th>8</th>\n",
       "      <td>99.07.25-124.89</td>\n",
       "      <td>Lemmens</td>\n",
       "      <td>Elke</td>\n",
       "    </tr>\n",
       "  </tbody>\n",
       "</table>\n",
       "</div>"
      ],
      "text/plain": [
       "  rijksregisternummer      naam voornaam\n",
       "0     94.07.25-124.89   Lemmens     Elke\n",
       "3     99.07.01-005.56  Hendriks  Hendrik\n",
       "5     00.10.11-133.71  Janssens      Jef\n",
       "7     89.07.01-005.56  Hendriks  Hendrik\n",
       "8     99.07.25-124.89   Lemmens     Elke"
      ]
     },
     "execution_count": 86,
     "metadata": {},
     "output_type": "execute_result"
    }
   ],
   "source": [
    "data = data.dropna()\n",
    "data.head()"
   ]
  },
  {
   "attachments": {},
   "cell_type": "markdown",
   "metadata": {},
   "source": [
    "Wijzig het dataframe door een kolom toe te voegen met de naam “geboortedatum” die de geboortedatum als datetime object voorstelt.\n",
    "Toon opnieuw de eerste rijen om na te gaan of dit gelukt is."
   ]
  },
  {
   "cell_type": "code",
   "execution_count": null,
   "metadata": {},
   "outputs": [],
   "source": []
  },
  {
   "attachments": {},
   "cell_type": "markdown",
   "metadata": {},
   "source": [
    "Wijzig het dataframe door een kolom toe te voegen met de naam “dag” die de dag in de week voorstelt dat de persoon geboren is; de dagen zijn de Engelstalige namen voor de dagen.\n",
    "Toon opnieuw de eerste rijen om na te gaan of dit gelukt is."
   ]
  },
  {
   "cell_type": "code",
   "execution_count": 87,
   "metadata": {},
   "outputs": [
    {
     "data": {
      "text/html": [
       "<div>\n",
       "<style scoped>\n",
       "    .dataframe tbody tr th:only-of-type {\n",
       "        vertical-align: middle;\n",
       "    }\n",
       "\n",
       "    .dataframe tbody tr th {\n",
       "        vertical-align: top;\n",
       "    }\n",
       "\n",
       "    .dataframe thead th {\n",
       "        text-align: right;\n",
       "    }\n",
       "</style>\n",
       "<table border=\"1\" class=\"dataframe\">\n",
       "  <thead>\n",
       "    <tr style=\"text-align: right;\">\n",
       "      <th></th>\n",
       "      <th>rijksregisternummer</th>\n",
       "      <th>naam</th>\n",
       "      <th>voornaam</th>\n",
       "      <th>dag</th>\n",
       "    </tr>\n",
       "  </thead>\n",
       "  <tbody>\n",
       "    <tr>\n",
       "      <th>0</th>\n",
       "      <td>94.07.25-124.89</td>\n",
       "      <td>Lemmens</td>\n",
       "      <td>Elke</td>\n",
       "      <td>Monday</td>\n",
       "    </tr>\n",
       "    <tr>\n",
       "      <th>3</th>\n",
       "      <td>99.07.01-005.56</td>\n",
       "      <td>Hendriks</td>\n",
       "      <td>Hendrik</td>\n",
       "      <td>Thursday</td>\n",
       "    </tr>\n",
       "    <tr>\n",
       "      <th>5</th>\n",
       "      <td>00.10.11-133.71</td>\n",
       "      <td>Janssens</td>\n",
       "      <td>Jef</td>\n",
       "      <td>Wednesday</td>\n",
       "    </tr>\n",
       "    <tr>\n",
       "      <th>7</th>\n",
       "      <td>89.07.01-005.56</td>\n",
       "      <td>Hendriks</td>\n",
       "      <td>Hendrik</td>\n",
       "      <td>Saturday</td>\n",
       "    </tr>\n",
       "    <tr>\n",
       "      <th>8</th>\n",
       "      <td>99.07.25-124.89</td>\n",
       "      <td>Lemmens</td>\n",
       "      <td>Elke</td>\n",
       "      <td>Sunday</td>\n",
       "    </tr>\n",
       "  </tbody>\n",
       "</table>\n",
       "</div>"
      ],
      "text/plain": [
       "  rijksregisternummer      naam voornaam        dag\n",
       "0     94.07.25-124.89   Lemmens     Elke     Monday\n",
       "3     99.07.01-005.56  Hendriks  Hendrik   Thursday\n",
       "5     00.10.11-133.71  Janssens      Jef  Wednesday\n",
       "7     89.07.01-005.56  Hendriks  Hendrik   Saturday\n",
       "8     99.07.25-124.89   Lemmens     Elke     Sunday"
      ]
     },
     "execution_count": 87,
     "metadata": {},
     "output_type": "execute_result"
    }
   ],
   "source": [
    "def controleer_en_voeg_weekdag_toe(rrn):\n",
    "    datum = datetime.strptime(rrn[:8], \"%y.%m.%d\")\n",
    "    weekday = datum.weekday()\n",
    "    weekdays_text = [\"Monday\",\"Tuesday\", \"Wednesday\", \"Thursday\",\"Friday\",\"Saturday\",\"Sunday\"]\n",
    "    return weekdays_text[weekday]\n",
    "\n",
    "data[\"dag\"] = data[\"rijksregisternummer\"].apply(controleer_en_voeg_weekdag_toe)\n",
    "data.head()\n"
   ]
  },
  {
   "attachments": {},
   "cell_type": "markdown",
   "metadata": {},
   "source": [
    "Voer volgend stukje code uit."
   ]
  },
  {
   "cell_type": "code",
   "execution_count": 88,
   "metadata": {},
   "outputs": [
    {
     "data": {
      "text/html": [
       "<div>\n",
       "<style scoped>\n",
       "    .dataframe tbody tr th:only-of-type {\n",
       "        vertical-align: middle;\n",
       "    }\n",
       "\n",
       "    .dataframe tbody tr th {\n",
       "        vertical-align: top;\n",
       "    }\n",
       "\n",
       "    .dataframe thead th {\n",
       "        text-align: right;\n",
       "    }\n",
       "</style>\n",
       "<table border=\"1\" class=\"dataframe\">\n",
       "  <thead>\n",
       "    <tr style=\"text-align: right;\">\n",
       "      <th></th>\n",
       "      <th>rijksregisternummer</th>\n",
       "      <th>naam</th>\n",
       "      <th>voornaam</th>\n",
       "      <th>dag</th>\n",
       "    </tr>\n",
       "  </thead>\n",
       "  <tbody>\n",
       "    <tr>\n",
       "      <th>0</th>\n",
       "      <td>94.07.25-124.89</td>\n",
       "      <td>Lemmens</td>\n",
       "      <td>Elke</td>\n",
       "      <td>Monday</td>\n",
       "    </tr>\n",
       "    <tr>\n",
       "      <th>3</th>\n",
       "      <td>99.07.01-005.56</td>\n",
       "      <td>Hendriks</td>\n",
       "      <td>Hendrik</td>\n",
       "      <td>Thursday</td>\n",
       "    </tr>\n",
       "    <tr>\n",
       "      <th>5</th>\n",
       "      <td>00.10.11-133.71</td>\n",
       "      <td>Janssens</td>\n",
       "      <td>Jef</td>\n",
       "      <td>Wednesday</td>\n",
       "    </tr>\n",
       "    <tr>\n",
       "      <th>7</th>\n",
       "      <td>89.07.01-005.56</td>\n",
       "      <td>Hendriks</td>\n",
       "      <td>Hendrik</td>\n",
       "      <td>Saturday</td>\n",
       "    </tr>\n",
       "    <tr>\n",
       "      <th>8</th>\n",
       "      <td>99.07.25-124.89</td>\n",
       "      <td>Lemmens</td>\n",
       "      <td>Elke</td>\n",
       "      <td>Sunday</td>\n",
       "    </tr>\n",
       "  </tbody>\n",
       "</table>\n",
       "</div>"
      ],
      "text/plain": [
       "  rijksregisternummer      naam voornaam        dag\n",
       "0     94.07.25-124.89   Lemmens     Elke     Monday\n",
       "3     99.07.01-005.56  Hendriks  Hendrik   Thursday\n",
       "5     00.10.11-133.71  Janssens      Jef  Wednesday\n",
       "7     89.07.01-005.56  Hendriks  Hendrik   Saturday\n",
       "8     99.07.25-124.89   Lemmens     Elke     Sunday"
      ]
     },
     "execution_count": 88,
     "metadata": {},
     "output_type": "execute_result"
    }
   ],
   "source": [
    "data[\"dag\"] = pd.Categorical(data[\"dag\"],[\"Monday\",\"Tuesday\", \"Wednesday\", \"Thursday\",\"Friday\",\"Saturday\",\"Sunday\"])\n",
    "data.head()"
   ]
  },
  {
   "attachments": {},
   "cell_type": "markdown",
   "metadata": {},
   "source": [
    "Toon een visueel overzicht in de vorm van een histogram van het aantal geboortes per dag van de week. "
   ]
  },
  {
   "cell_type": "code",
   "execution_count": 89,
   "metadata": {},
   "outputs": [
    {
     "data": {
      "image/png": "[encoded data removed]",
      "text/plain": [
       "<Figure size 640x480 with 1 Axes>"
      ]
     },
     "metadata": {},
     "output_type": "display_data"
    }
   ],
   "source": [
    "data_rated = data[[\"dag\"]].sort_values(by=\"dag\", ascending=False)\n",
    "sns.histplot(data=data[\"dag\"])\n",
    "\n",
    "## enkel histogram = plt.show()\n",
    "plt.show()"
   ]
  }
 ],
 "metadata": {
  "kernelspec": {
   "display_name": "base",
   "language": "python",
   "name": "python3"
  },
  "language_info": {
   "codemirror_mode": {
    "name": "ipython",
    "version": 3
   },
   "file_extension": ".py",
   "mimetype": "text/x-python",
   "name": "python",
   "nbconvert_exporter": "python",
   "pygments_lexer": "ipython3",
   "version": "3.11.9"
  },
  "orig_nbformat": 4
 },
 "nbformat": 4,
 "nbformat_minor": 2
}
